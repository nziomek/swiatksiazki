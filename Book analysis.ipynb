{
 "cells": [
  {
   "cell_type": "markdown",
   "metadata": {},
   "source": [
    "# Analysis of factors influencing books prices"
   ]
  },
  {
   "cell_type": "code",
   "execution_count": 1,
   "metadata": {},
   "outputs": [],
   "source": [
    "import pandas as pd\n",
    "import numpy as np\n",
    "import matplotlib.pyplot as plt \n",
    "import scipy.stats as stats\n",
    "from googletrans import Translator"
   ]
  },
  {
   "cell_type": "markdown",
   "metadata": {},
   "source": [
    "The dataset used in this analysis is scraped with help of Scrapy. \n",
    "\n",
    "[The spider can be also found on ScrapingHub here](https://app.scrapinghub.com/p/457074/1)\n",
    "\n",
    "The target page was swiatksiazki.pl, the subpages were limited to those listing books alone, audiobooks and ebooks not included."
   ]
  },
  {
   "cell_type": "code",
   "execution_count": 2,
   "metadata": {},
   "outputs": [],
   "source": [
    "df = pd.read_csv('books.csv')"
   ]
  },
  {
   "cell_type": "code",
   "execution_count": 3,
   "metadata": {},
   "outputs": [
    {
     "data": {
      "text/html": [
       "<div>\n",
       "<style scoped>\n",
       "    .dataframe tbody tr th:only-of-type {\n",
       "        vertical-align: middle;\n",
       "    }\n",
       "\n",
       "    .dataframe tbody tr th {\n",
       "        vertical-align: top;\n",
       "    }\n",
       "\n",
       "    .dataframe thead th {\n",
       "        text-align: right;\n",
       "    }\n",
       "</style>\n",
       "<table border=\"1\" class=\"dataframe\">\n",
       "  <thead>\n",
       "    <tr style=\"text-align: right;\">\n",
       "      <th></th>\n",
       "      <th>categories</th>\n",
       "      <th>cover</th>\n",
       "      <th>date_published</th>\n",
       "      <th>ean</th>\n",
       "      <th>pages_count</th>\n",
       "      <th>price</th>\n",
       "      <th>price_old</th>\n",
       "      <th>publisher</th>\n",
       "      <th>series</th>\n",
       "      <th>size_cm</th>\n",
       "      <th>title</th>\n",
       "    </tr>\n",
       "  </thead>\n",
       "  <tbody>\n",
       "    <tr>\n",
       "      <th>0</th>\n",
       "      <td>Książki / proza / proza obca</td>\n",
       "      <td>okładka miękka</td>\n",
       "      <td>2020-06-03</td>\n",
       "      <td>9788381394093</td>\n",
       "      <td>480.0</td>\n",
       "      <td>26,73 zł</td>\n",
       "      <td>39,90 zł</td>\n",
       "      <td>Świat Książki</td>\n",
       "      <td>Kolekcja dzieł Kristin Hannah</td>\n",
       "      <td>13.5 x 21.5</td>\n",
       "      <td>Prawdziwe kolory</td>\n",
       "    </tr>\n",
       "    <tr>\n",
       "      <th>1</th>\n",
       "      <td>Książki / biografie / postacie historyczne, po...</td>\n",
       "      <td>okładka miękka</td>\n",
       "      <td>2020-05-20</td>\n",
       "      <td>9788324077939</td>\n",
       "      <td>412.0</td>\n",
       "      <td>26,15 zł</td>\n",
       "      <td>39,99 zł</td>\n",
       "      <td>Znak</td>\n",
       "      <td>NaN</td>\n",
       "      <td>13.5x20.5</td>\n",
       "      <td>Pani Churchill</td>\n",
       "    </tr>\n",
       "    <tr>\n",
       "      <th>2</th>\n",
       "      <td>Książki / kryminał i sensacja / kryminałKsiążk...</td>\n",
       "      <td>okładka miękka</td>\n",
       "      <td>2020-05-06</td>\n",
       "      <td>9788366500167</td>\n",
       "      <td>384.0</td>\n",
       "      <td>28,73 zł</td>\n",
       "      <td>39,90 zł</td>\n",
       "      <td>Marginesy</td>\n",
       "      <td>NaN</td>\n",
       "      <td>13.5 x 21.0</td>\n",
       "      <td>Wyrwa</td>\n",
       "    </tr>\n",
       "    <tr>\n",
       "      <th>3</th>\n",
       "      <td>Książki / literatura faktu / polityka i polito...</td>\n",
       "      <td>okładka miękka</td>\n",
       "      <td>2020-05-13</td>\n",
       "      <td>9788364076954</td>\n",
       "      <td>360.0</td>\n",
       "      <td>25,94 zł</td>\n",
       "      <td>39,99 zł</td>\n",
       "      <td>Polityka</td>\n",
       "      <td>NaN</td>\n",
       "      <td>14x20.5</td>\n",
       "      <td>W Polsce, czyli wszędzie. Rzecz o upadku i prz...</td>\n",
       "    </tr>\n",
       "    <tr>\n",
       "      <th>4</th>\n",
       "      <td>Książki / fantastyka / fantasy</td>\n",
       "      <td>okładka miękka</td>\n",
       "      <td>2020-05-20</td>\n",
       "      <td>9788328052062</td>\n",
       "      <td>560.0</td>\n",
       "      <td>31,99 zł</td>\n",
       "      <td>39,99 zł</td>\n",
       "      <td>Uroboros</td>\n",
       "      <td>NaN</td>\n",
       "      <td>13.5 x 20</td>\n",
       "      <td>Dom Ziemi i Krwi. Część 1. Cykl Księżycowe mia...</td>\n",
       "    </tr>\n",
       "  </tbody>\n",
       "</table>\n",
       "</div>"
      ],
      "text/plain": [
       "                                          categories           cover  \\\n",
       "0                       Książki / proza / proza obca  okładka miękka   \n",
       "1  Książki / biografie / postacie historyczne, po...  okładka miękka   \n",
       "2  Książki / kryminał i sensacja / kryminałKsiążk...  okładka miękka   \n",
       "3  Książki / literatura faktu / polityka i polito...  okładka miękka   \n",
       "4                     Książki / fantastyka / fantasy  okładka miękka   \n",
       "\n",
       "  date_published            ean  pages_count     price price_old  \\\n",
       "0     2020-06-03  9788381394093        480.0  26,73 zł  39,90 zł   \n",
       "1     2020-05-20  9788324077939        412.0  26,15 zł  39,99 zł   \n",
       "2     2020-05-06  9788366500167        384.0  28,73 zł  39,90 zł   \n",
       "3     2020-05-13  9788364076954        360.0  25,94 zł  39,99 zł   \n",
       "4     2020-05-20  9788328052062        560.0  31,99 zł  39,99 zł   \n",
       "\n",
       "       publisher                         series      size_cm  \\\n",
       "0  Świat Książki  Kolekcja dzieł Kristin Hannah  13.5 x 21.5   \n",
       "1           Znak                            NaN    13.5x20.5   \n",
       "2      Marginesy                            NaN  13.5 x 21.0   \n",
       "3       Polityka                            NaN      14x20.5   \n",
       "4       Uroboros                            NaN    13.5 x 20   \n",
       "\n",
       "                                               title  \n",
       "0                                   Prawdziwe kolory  \n",
       "1                                     Pani Churchill  \n",
       "2                                              Wyrwa  \n",
       "3  W Polsce, czyli wszędzie. Rzecz o upadku i prz...  \n",
       "4  Dom Ziemi i Krwi. Część 1. Cykl Księżycowe mia...  "
      ]
     },
     "execution_count": 3,
     "metadata": {},
     "output_type": "execute_result"
    }
   ],
   "source": [
    "df[:5]"
   ]
  },
  {
   "cell_type": "code",
   "execution_count": 4,
   "metadata": {},
   "outputs": [
    {
     "name": "stdout",
     "output_type": "stream",
     "text": [
      "<class 'pandas.core.frame.DataFrame'>\n",
      "RangeIndex: 71441 entries, 0 to 71440\n",
      "Data columns (total 11 columns):\n",
      "categories        71441 non-null object\n",
      "cover             66920 non-null object\n",
      "date_published    71429 non-null object\n",
      "ean               71441 non-null int64\n",
      "pages_count       68194 non-null float64\n",
      "price             71441 non-null object\n",
      "price_old         66528 non-null object\n",
      "publisher         71431 non-null object\n",
      "series            5515 non-null object\n",
      "size_cm           69426 non-null object\n",
      "title             71441 non-null object\n",
      "dtypes: float64(1), int64(1), object(9)\n",
      "memory usage: 6.0+ MB\n"
     ]
    }
   ],
   "source": [
    "df.info()"
   ]
  },
  {
   "cell_type": "markdown",
   "metadata": {},
   "source": [
    "## Data cleaning\n",
    "### Converting columns to correct formats"
   ]
  },
  {
   "cell_type": "markdown",
   "metadata": {},
   "source": [
    "The first column contains string with all categories a book was assigned to. It's unordered but it's uniform pattern makes it easier to properly split relevant information. The first part of the string always indicates if a book was written in/translated to Polish ('książki') or not ('książki obcojęzyczne')."
   ]
  },
  {
   "cell_type": "code",
   "execution_count": 5,
   "metadata": {},
   "outputs": [
    {
     "data": {
      "text/html": [
       "<div>\n",
       "<style scoped>\n",
       "    .dataframe tbody tr th:only-of-type {\n",
       "        vertical-align: middle;\n",
       "    }\n",
       "\n",
       "    .dataframe tbody tr th {\n",
       "        vertical-align: top;\n",
       "    }\n",
       "\n",
       "    .dataframe thead th {\n",
       "        text-align: right;\n",
       "    }\n",
       "</style>\n",
       "<table border=\"1\" class=\"dataframe\">\n",
       "  <thead>\n",
       "    <tr style=\"text-align: right;\">\n",
       "      <th></th>\n",
       "      <th>categories</th>\n",
       "      <th>cover</th>\n",
       "      <th>date_published</th>\n",
       "      <th>ean</th>\n",
       "      <th>pages_count</th>\n",
       "      <th>price</th>\n",
       "      <th>price_old</th>\n",
       "      <th>publisher</th>\n",
       "      <th>series</th>\n",
       "      <th>size_cm</th>\n",
       "      <th>title</th>\n",
       "      <th>isPolish</th>\n",
       "    </tr>\n",
       "  </thead>\n",
       "  <tbody>\n",
       "    <tr>\n",
       "      <th>27</th>\n",
       "      <td>książki obcojęzyczne / angielskie / Fiction</td>\n",
       "      <td>okładka twarda</td>\n",
       "      <td>2020-04-02</td>\n",
       "      <td>9781529123944</td>\n",
       "      <td>336.0</td>\n",
       "      <td>61,50 zł</td>\n",
       "      <td>67,90 zł</td>\n",
       "      <td>Cornerstone</td>\n",
       "      <td>NaN</td>\n",
       "      <td>22.2x14.6</td>\n",
       "      <td>The Silent Treatment</td>\n",
       "      <td>0</td>\n",
       "    </tr>\n",
       "    <tr>\n",
       "      <th>44</th>\n",
       "      <td>książki obcojęzyczne / angielskie / Fiction</td>\n",
       "      <td>okładka miękka</td>\n",
       "      <td>NaN</td>\n",
       "      <td>9781853261770</td>\n",
       "      <td>NaN</td>\n",
       "      <td>13,00 zł</td>\n",
       "      <td>13,90 zł</td>\n",
       "      <td>Wordsworth Editions</td>\n",
       "      <td>NaN</td>\n",
       "      <td>198 x 126 mm</td>\n",
       "      <td>The Portrait of a Lady (Wordsworth Classics)</td>\n",
       "      <td>0</td>\n",
       "    </tr>\n",
       "    <tr>\n",
       "      <th>58</th>\n",
       "      <td>książki obcojęzyczne / angielskie / Fiction</td>\n",
       "      <td>okładka miękka</td>\n",
       "      <td>2020-06-25</td>\n",
       "      <td>9781838771164</td>\n",
       "      <td>448.0</td>\n",
       "      <td>42,50 zł</td>\n",
       "      <td>46,90 zł</td>\n",
       "      <td>Bonnier Zaffre</td>\n",
       "      <td>NaN</td>\n",
       "      <td>12.9x19.8</td>\n",
       "      <td>The Catch</td>\n",
       "      <td>0</td>\n",
       "    </tr>\n",
       "    <tr>\n",
       "      <th>73</th>\n",
       "      <td>książki obcojęzyczne / angielskie / Children's</td>\n",
       "      <td>okładka twarda</td>\n",
       "      <td>2018-09-06</td>\n",
       "      <td>9781786961037</td>\n",
       "      <td>112.0</td>\n",
       "      <td>62,50 zł</td>\n",
       "      <td>68,90 zł</td>\n",
       "      <td>Bonnier Zaffre</td>\n",
       "      <td>NaN</td>\n",
       "      <td>22.7x20.9</td>\n",
       "      <td>Bear Grylls Epic Adventures Series - Epic Flights</td>\n",
       "      <td>0</td>\n",
       "    </tr>\n",
       "    <tr>\n",
       "      <th>100</th>\n",
       "      <td>książki obcojęzyczne / angielskie / Children's</td>\n",
       "      <td>okładka miękka</td>\n",
       "      <td>2020-04-16</td>\n",
       "      <td>9780241440766</td>\n",
       "      <td>160.0</td>\n",
       "      <td>38,00 zł</td>\n",
       "      <td>41,90 zł</td>\n",
       "      <td>Penguin Books Ltd</td>\n",
       "      <td>NaN</td>\n",
       "      <td>12.9x17.8</td>\n",
       "      <td>The Call of the Wild (Green Puffin Classics)</td>\n",
       "      <td>0</td>\n",
       "    </tr>\n",
       "  </tbody>\n",
       "</table>\n",
       "</div>"
      ],
      "text/plain": [
       "                                         categories           cover  \\\n",
       "27      książki obcojęzyczne / angielskie / Fiction  okładka twarda   \n",
       "44      książki obcojęzyczne / angielskie / Fiction  okładka miękka   \n",
       "58      książki obcojęzyczne / angielskie / Fiction  okładka miękka   \n",
       "73   książki obcojęzyczne / angielskie / Children's  okładka twarda   \n",
       "100  książki obcojęzyczne / angielskie / Children's  okładka miękka   \n",
       "\n",
       "    date_published            ean  pages_count     price price_old  \\\n",
       "27      2020-04-02  9781529123944        336.0  61,50 zł  67,90 zł   \n",
       "44             NaN  9781853261770          NaN  13,00 zł  13,90 zł   \n",
       "58      2020-06-25  9781838771164        448.0  42,50 zł  46,90 zł   \n",
       "73      2018-09-06  9781786961037        112.0  62,50 zł  68,90 zł   \n",
       "100     2020-04-16  9780241440766        160.0  38,00 zł  41,90 zł   \n",
       "\n",
       "               publisher series       size_cm  \\\n",
       "27           Cornerstone    NaN     22.2x14.6   \n",
       "44   Wordsworth Editions    NaN  198 x 126 mm   \n",
       "58        Bonnier Zaffre    NaN     12.9x19.8   \n",
       "73        Bonnier Zaffre    NaN     22.7x20.9   \n",
       "100    Penguin Books Ltd    NaN     12.9x17.8   \n",
       "\n",
       "                                                 title  isPolish  \n",
       "27                                The Silent Treatment         0  \n",
       "44        The Portrait of a Lady (Wordsworth Classics)         0  \n",
       "58                                           The Catch         0  \n",
       "73   Bear Grylls Epic Adventures Series - Epic Flights         0  \n",
       "100       The Call of the Wild (Green Puffin Classics)         0  "
      ]
     },
     "execution_count": 5,
     "metadata": {},
     "output_type": "execute_result"
    }
   ],
   "source": [
    "df['isPolish'] = df.categories.str.split(' / ').str[0].str.lower()\n",
    "df['isPolish'] = np.where(df['isPolish']=='książki', 1, 0)\n",
    "df[df['isPolish'] == 0][:5]"
   ]
  },
  {
   "cell_type": "markdown",
   "metadata": {},
   "source": [
    "The rest of the string contains information about other categories, however the further the part, the most specific the subject is, which makes it harder to properly assign a book to a broader category. "
   ]
  },
  {
   "cell_type": "code",
   "execution_count": 6,
   "metadata": {},
   "outputs": [
    {
     "name": "stdout",
     "output_type": "stream",
     "text": [
      "72\n",
      "486\n",
      "313\n",
      "359\n",
      "164\n",
      "257\n",
      "71\n",
      "66\n",
      "52\n",
      "16\n",
      "15\n",
      "20\n",
      "3\n",
      "6\n",
      "6\n",
      "2\n",
      "3\n",
      "3\n",
      "2\n"
     ]
    }
   ],
   "source": [
    "cats = df.categories.str.split(' / ')\n",
    "cats_max = cats.apply(lambda x: len(x)).max()\n",
    "for i in range(1,cats_max):\n",
    "    print(len(set(df.categories.str.split(' / ').str[i])))"
   ]
  },
  {
   "cell_type": "markdown",
   "metadata": {},
   "source": [
    "The second part of the string seems to fit the most as the number of different isn't either too great or too small. "
   ]
  },
  {
   "cell_type": "code",
   "execution_count": 7,
   "metadata": {},
   "outputs": [
    {
     "data": {
      "text/plain": [
       "angielskie                              25235\n",
       "dla dzieci                               6632\n",
       "proza                                    5696\n",
       "outlet                                   3520\n",
       "poradniki                                3122\n",
       "                                        ...  \n",
       "kultura i sztukaksiążki obcojęzyczne        1\n",
       "angielskieksiążki obcojęzyczne              1\n",
       "inneksiążki obcojęzyczne                    1\n",
       "dla młodzieżyksiążki obcojęzyczne           1\n",
       "dla dzieciksiążki                           1\n",
       "Name: categories, Length: 71, dtype: int64"
      ]
     },
     "execution_count": 7,
     "metadata": {},
     "output_type": "execute_result"
    }
   ],
   "source": [
    "cats.str[1].str.lower().value_counts()"
   ]
  },
  {
   "cell_type": "markdown",
   "metadata": {},
   "source": [
    "There is also an issue that requires fixing - some of the entries were immidiately followed by the new set of categories and were extracted as one string as a result. Those entires also impact the true amount of subcategories and will be corrected by replacing a part next category set with an empty string."
   ]
  },
  {
   "cell_type": "code",
   "execution_count": 8,
   "metadata": {},
   "outputs": [],
   "source": [
    "df['subject'] = cats.str[1].str.lower().replace(r'książki$|książki obcojęzyczne$', '', regex=True)\n",
    "df['subject'].fillna(df.subject.mode()[0], inplace=True)"
   ]
  },
  {
   "cell_type": "code",
   "execution_count": 9,
   "metadata": {},
   "outputs": [
    {
     "data": {
      "text/plain": [
       "40"
      ]
     },
     "execution_count": 9,
     "metadata": {},
     "output_type": "execute_result"
    }
   ],
   "source": [
    "len(df['subject'].value_counts())"
   ]
  },
  {
   "cell_type": "code",
   "execution_count": 10,
   "metadata": {},
   "outputs": [
    {
     "data": {
      "text/plain": [
       "angielskie                     25487\n",
       "dla dzieci                      6633\n",
       "proza                           5696\n",
       "outlet                          3564\n",
       "poradniki                       3122\n",
       "kryminał i sensacja             2541\n",
       "historia                        2238\n",
       "literatura faktu                2164\n",
       "biografie                       2030\n",
       "dla młodzieży                   1651\n",
       "nauki humanistyczne             1605\n",
       "podróże                         1545\n",
       "audiobook                       1311\n",
       "prawo                           1198\n",
       "fantastyka                      1196\n",
       "religia                         1186\n",
       "proza obyczajowa                1154\n",
       "komiksy                          956\n",
       "biznes                           893\n",
       "informatyka                      866\n",
       "poezja i dramat                  801\n",
       "albumy                           724\n",
       "kultura i sztuka                 671\n",
       "nauka języków                    484\n",
       "polscy autorzy                   423\n",
       "nauki ścisłe                     279\n",
       "niemieckie                       206\n",
       "lektury                          183\n",
       "literatura popularnonaukowa      172\n",
       "ezoteryka                        171\n",
       "encyklopedie i słowniki           72\n",
       "sport                             69\n",
       "rozrywka, humor                   50\n",
       "prasa                             29\n",
       "książka z kalendarzem             20\n",
       "hiszpańskie                       15\n",
       "inne                              12\n",
       "francuskie                        12\n",
       "książki z autografem autora        7\n",
       "rosyjskie                          5\n",
       "Name: subject, dtype: int64"
      ]
     },
     "execution_count": 10,
     "metadata": {},
     "output_type": "execute_result"
    }
   ],
   "source": [
    "df['subject'].value_counts()"
   ]
  },
  {
   "cell_type": "markdown",
   "metadata": {},
   "source": [
    "For the readability and cosistence, the subjects will be translated into English. I will create the list of subjects, translate it and then map it with the actual series in order not to exceed the daily limit usage."
   ]
  },
  {
   "cell_type": "code",
   "execution_count": 11,
   "metadata": {},
   "outputs": [],
   "source": [
    "subj = df['subject'].to_list()\n",
    "subj_list = sorted(list(set(subj)))\n",
    "translator = Translator()\n",
    "subj_list_trans = [translator.translate(x, src='pl').text for x in subj_list]\n",
    "subj_list_trans = ['law' if x=='right' else x for x in subj_list_trans]\n",
    "dictionary = dict(zip(subj_list, subj_list_trans))\n",
    "df['subject'] = df['subject'].map(dictionary)\n",
    "df['subject'] = df['subject'].str.lower().astype('category')\n",
    "df.drop('categories', axis=1, inplace=True)"
   ]
  },
  {
   "cell_type": "code",
   "execution_count": 12,
   "metadata": {},
   "outputs": [
    {
     "data": {
      "text/html": [
       "<div>\n",
       "<style scoped>\n",
       "    .dataframe tbody tr th:only-of-type {\n",
       "        vertical-align: middle;\n",
       "    }\n",
       "\n",
       "    .dataframe tbody tr th {\n",
       "        vertical-align: top;\n",
       "    }\n",
       "\n",
       "    .dataframe thead th {\n",
       "        text-align: right;\n",
       "    }\n",
       "</style>\n",
       "<table border=\"1\" class=\"dataframe\">\n",
       "  <thead>\n",
       "    <tr style=\"text-align: right;\">\n",
       "      <th></th>\n",
       "      <th>cover</th>\n",
       "      <th>date_published</th>\n",
       "      <th>ean</th>\n",
       "      <th>pages_count</th>\n",
       "      <th>price</th>\n",
       "      <th>price_old</th>\n",
       "      <th>publisher</th>\n",
       "      <th>series</th>\n",
       "      <th>size_cm</th>\n",
       "      <th>title</th>\n",
       "      <th>isPolish</th>\n",
       "      <th>subject</th>\n",
       "    </tr>\n",
       "  </thead>\n",
       "  <tbody>\n",
       "    <tr>\n",
       "      <th>0</th>\n",
       "      <td>okładka miękka</td>\n",
       "      <td>2020-06-03</td>\n",
       "      <td>9788381394093</td>\n",
       "      <td>480.0</td>\n",
       "      <td>26,73 zł</td>\n",
       "      <td>39,90 zł</td>\n",
       "      <td>Świat Książki</td>\n",
       "      <td>Kolekcja dzieł Kristin Hannah</td>\n",
       "      <td>13.5 x 21.5</td>\n",
       "      <td>Prawdziwe kolory</td>\n",
       "      <td>1</td>\n",
       "      <td>prose</td>\n",
       "    </tr>\n",
       "    <tr>\n",
       "      <th>1</th>\n",
       "      <td>okładka miękka</td>\n",
       "      <td>2020-05-20</td>\n",
       "      <td>9788324077939</td>\n",
       "      <td>412.0</td>\n",
       "      <td>26,15 zł</td>\n",
       "      <td>39,99 zł</td>\n",
       "      <td>Znak</td>\n",
       "      <td>NaN</td>\n",
       "      <td>13.5x20.5</td>\n",
       "      <td>Pani Churchill</td>\n",
       "      <td>1</td>\n",
       "      <td>biographies</td>\n",
       "    </tr>\n",
       "    <tr>\n",
       "      <th>2</th>\n",
       "      <td>okładka miękka</td>\n",
       "      <td>2020-05-06</td>\n",
       "      <td>9788366500167</td>\n",
       "      <td>384.0</td>\n",
       "      <td>28,73 zł</td>\n",
       "      <td>39,90 zł</td>\n",
       "      <td>Marginesy</td>\n",
       "      <td>NaN</td>\n",
       "      <td>13.5 x 21.0</td>\n",
       "      <td>Wyrwa</td>\n",
       "      <td>1</td>\n",
       "      <td>crime and sensation</td>\n",
       "    </tr>\n",
       "    <tr>\n",
       "      <th>3</th>\n",
       "      <td>okładka miękka</td>\n",
       "      <td>2020-05-13</td>\n",
       "      <td>9788364076954</td>\n",
       "      <td>360.0</td>\n",
       "      <td>25,94 zł</td>\n",
       "      <td>39,99 zł</td>\n",
       "      <td>Polityka</td>\n",
       "      <td>NaN</td>\n",
       "      <td>14x20.5</td>\n",
       "      <td>W Polsce, czyli wszędzie. Rzecz o upadku i prz...</td>\n",
       "      <td>1</td>\n",
       "      <td>non-fiction</td>\n",
       "    </tr>\n",
       "    <tr>\n",
       "      <th>4</th>\n",
       "      <td>okładka miękka</td>\n",
       "      <td>2020-05-20</td>\n",
       "      <td>9788328052062</td>\n",
       "      <td>560.0</td>\n",
       "      <td>31,99 zł</td>\n",
       "      <td>39,99 zł</td>\n",
       "      <td>Uroboros</td>\n",
       "      <td>NaN</td>\n",
       "      <td>13.5 x 20</td>\n",
       "      <td>Dom Ziemi i Krwi. Część 1. Cykl Księżycowe mia...</td>\n",
       "      <td>1</td>\n",
       "      <td>fantastic</td>\n",
       "    </tr>\n",
       "  </tbody>\n",
       "</table>\n",
       "</div>"
      ],
      "text/plain": [
       "            cover date_published            ean  pages_count     price  \\\n",
       "0  okładka miękka     2020-06-03  9788381394093        480.0  26,73 zł   \n",
       "1  okładka miękka     2020-05-20  9788324077939        412.0  26,15 zł   \n",
       "2  okładka miękka     2020-05-06  9788366500167        384.0  28,73 zł   \n",
       "3  okładka miękka     2020-05-13  9788364076954        360.0  25,94 zł   \n",
       "4  okładka miękka     2020-05-20  9788328052062        560.0  31,99 zł   \n",
       "\n",
       "  price_old      publisher                         series      size_cm  \\\n",
       "0  39,90 zł  Świat Książki  Kolekcja dzieł Kristin Hannah  13.5 x 21.5   \n",
       "1  39,99 zł           Znak                            NaN    13.5x20.5   \n",
       "2  39,90 zł      Marginesy                            NaN  13.5 x 21.0   \n",
       "3  39,99 zł       Polityka                            NaN      14x20.5   \n",
       "4  39,99 zł       Uroboros                            NaN    13.5 x 20   \n",
       "\n",
       "                                               title  isPolish  \\\n",
       "0                                   Prawdziwe kolory         1   \n",
       "1                                     Pani Churchill         1   \n",
       "2                                              Wyrwa         1   \n",
       "3  W Polsce, czyli wszędzie. Rzecz o upadku i prz...         1   \n",
       "4  Dom Ziemi i Krwi. Część 1. Cykl Księżycowe mia...         1   \n",
       "\n",
       "               subject  \n",
       "0                prose  \n",
       "1          biographies  \n",
       "2  crime and sensation  \n",
       "3          non-fiction  \n",
       "4            fantastic  "
      ]
     },
     "execution_count": 12,
     "metadata": {},
     "output_type": "execute_result"
    }
   ],
   "source": [
    "df[:5]"
   ]
  },
  {
   "cell_type": "markdown",
   "metadata": {},
   "source": [
    "Next, the cover - I have decided to distinguish between soft and hard cover only and treat other types as nan, as their quantity is not great enough to give a reliable result."
   ]
  },
  {
   "cell_type": "code",
   "execution_count": 13,
   "metadata": {},
   "outputs": [
    {
     "data": {
      "text/plain": [
       "okładka miękka         44430\n",
       "okładka twarda         20118\n",
       "etui                    1438\n",
       "oprawa zintegrowana      916\n",
       "PCV                        6\n",
       "zintegrowana               6\n",
       "pcv                        2\n",
       "miękka z tworzywa          2\n",
       "CD+książka                 1\n",
       "plastikowa                 1\n",
       "Name: cover, dtype: int64"
      ]
     },
     "execution_count": 13,
     "metadata": {},
     "output_type": "execute_result"
    }
   ],
   "source": [
    "df.cover.value_counts()"
   ]
  },
  {
   "cell_type": "code",
   "execution_count": 14,
   "metadata": {},
   "outputs": [],
   "source": [
    "conditions = [\n",
    "    df['cover'] == 'okładka miękka',\n",
    "    df['cover'] == 'okładka twarda',\n",
    "    ]\n",
    "choices = [0, 1]\n",
    "\n",
    "df['cover'] = np.select(conditions, choices, default=np.nan).astype(int)"
   ]
  },
  {
   "cell_type": "markdown",
   "metadata": {},
   "source": [
    "The price needs to be sanitized and turned into float values."
   ]
  },
  {
   "cell_type": "code",
   "execution_count": 15,
   "metadata": {},
   "outputs": [],
   "source": [
    "df['price'] = df['price'].str.replace(' zł', '').str.replace(',', '.').str.replace(' ', '').astype(float)\n",
    "df['price_old'] = df['price_old'].str.replace(' zł', '').str.replace(',', '.').astype(float)"
   ]
  },
  {
   "cell_type": "markdown",
   "metadata": {},
   "source": [
    "The size columns contains both width and height of a book. Some fo them seem to be presented in mm, as are unusually large (4 digit numbers). In order to maintain consitency, the values will be converted to cm."
   ]
  },
  {
   "cell_type": "code",
   "execution_count": 16,
   "metadata": {},
   "outputs": [],
   "source": [
    "df['width'] = df['size_cm'].str.findall(r'(\\d+\\.?\\d)').str[0]\n",
    "df['height'] = df['size_cm'].str.findall(r'(\\d+\\.?\\d)').str[1]\n",
    "df['width'] = df['width'].astype(float)\n",
    "df['height'] = df['height'].astype(float)\n",
    "df.drop('size_cm', axis=1, inplace=True)"
   ]
  },
  {
   "cell_type": "code",
   "execution_count": 17,
   "metadata": {},
   "outputs": [],
   "source": [
    "df.loc[df['width'].astype(str).str.findall(r'(\\d+)').str[0].str.len() > 2, 'width'] = df['width']/10\n",
    "df.loc[df['width'].astype(str).str.findall(r'(\\d+)').str[0].str.len() > 2, 'width'] = df['width']/10"
   ]
  },
  {
   "cell_type": "code",
   "execution_count": 18,
   "metadata": {},
   "outputs": [],
   "source": [
    "df.loc[df['height'].astype(str).str.findall(r'(\\d+)').str[0].str.len() > 2, 'height'] = df['height']/10\n",
    "df.loc[df['height'].astype(str).str.findall(r'(\\d+)').str[0].str.len() > 2, 'height'] = df['height']/10"
   ]
  },
  {
   "cell_type": "markdown",
   "metadata": {},
   "source": [
    "Finally, date published will be coverted to datetime values."
   ]
  },
  {
   "cell_type": "code",
   "execution_count": 19,
   "metadata": {},
   "outputs": [],
   "source": [
    "df['date_published'] = pd.to_datetime(df['date_published'])"
   ]
  },
  {
   "cell_type": "code",
   "execution_count": 20,
   "metadata": {},
   "outputs": [
    {
     "data": {
      "text/html": [
       "<div>\n",
       "<style scoped>\n",
       "    .dataframe tbody tr th:only-of-type {\n",
       "        vertical-align: middle;\n",
       "    }\n",
       "\n",
       "    .dataframe tbody tr th {\n",
       "        vertical-align: top;\n",
       "    }\n",
       "\n",
       "    .dataframe thead th {\n",
       "        text-align: right;\n",
       "    }\n",
       "</style>\n",
       "<table border=\"1\" class=\"dataframe\">\n",
       "  <thead>\n",
       "    <tr style=\"text-align: right;\">\n",
       "      <th></th>\n",
       "      <th>cover</th>\n",
       "      <th>date_published</th>\n",
       "      <th>ean</th>\n",
       "      <th>pages_count</th>\n",
       "      <th>price</th>\n",
       "      <th>price_old</th>\n",
       "      <th>publisher</th>\n",
       "      <th>series</th>\n",
       "      <th>title</th>\n",
       "      <th>isPolish</th>\n",
       "      <th>subject</th>\n",
       "      <th>width</th>\n",
       "      <th>height</th>\n",
       "    </tr>\n",
       "  </thead>\n",
       "  <tbody>\n",
       "    <tr>\n",
       "      <th>0</th>\n",
       "      <td>0</td>\n",
       "      <td>2020-06-03</td>\n",
       "      <td>9788381394093</td>\n",
       "      <td>480.0</td>\n",
       "      <td>26.73</td>\n",
       "      <td>39.90</td>\n",
       "      <td>Świat Książki</td>\n",
       "      <td>Kolekcja dzieł Kristin Hannah</td>\n",
       "      <td>Prawdziwe kolory</td>\n",
       "      <td>1</td>\n",
       "      <td>prose</td>\n",
       "      <td>13.5</td>\n",
       "      <td>21.5</td>\n",
       "    </tr>\n",
       "    <tr>\n",
       "      <th>1</th>\n",
       "      <td>0</td>\n",
       "      <td>2020-05-20</td>\n",
       "      <td>9788324077939</td>\n",
       "      <td>412.0</td>\n",
       "      <td>26.15</td>\n",
       "      <td>39.99</td>\n",
       "      <td>Znak</td>\n",
       "      <td>NaN</td>\n",
       "      <td>Pani Churchill</td>\n",
       "      <td>1</td>\n",
       "      <td>biographies</td>\n",
       "      <td>13.5</td>\n",
       "      <td>20.5</td>\n",
       "    </tr>\n",
       "    <tr>\n",
       "      <th>2</th>\n",
       "      <td>0</td>\n",
       "      <td>2020-05-06</td>\n",
       "      <td>9788366500167</td>\n",
       "      <td>384.0</td>\n",
       "      <td>28.73</td>\n",
       "      <td>39.90</td>\n",
       "      <td>Marginesy</td>\n",
       "      <td>NaN</td>\n",
       "      <td>Wyrwa</td>\n",
       "      <td>1</td>\n",
       "      <td>crime and sensation</td>\n",
       "      <td>13.5</td>\n",
       "      <td>21.0</td>\n",
       "    </tr>\n",
       "    <tr>\n",
       "      <th>3</th>\n",
       "      <td>0</td>\n",
       "      <td>2020-05-13</td>\n",
       "      <td>9788364076954</td>\n",
       "      <td>360.0</td>\n",
       "      <td>25.94</td>\n",
       "      <td>39.99</td>\n",
       "      <td>Polityka</td>\n",
       "      <td>NaN</td>\n",
       "      <td>W Polsce, czyli wszędzie. Rzecz o upadku i prz...</td>\n",
       "      <td>1</td>\n",
       "      <td>non-fiction</td>\n",
       "      <td>14.0</td>\n",
       "      <td>20.5</td>\n",
       "    </tr>\n",
       "    <tr>\n",
       "      <th>4</th>\n",
       "      <td>0</td>\n",
       "      <td>2020-05-20</td>\n",
       "      <td>9788328052062</td>\n",
       "      <td>560.0</td>\n",
       "      <td>31.99</td>\n",
       "      <td>39.99</td>\n",
       "      <td>Uroboros</td>\n",
       "      <td>NaN</td>\n",
       "      <td>Dom Ziemi i Krwi. Część 1. Cykl Księżycowe mia...</td>\n",
       "      <td>1</td>\n",
       "      <td>fantastic</td>\n",
       "      <td>13.5</td>\n",
       "      <td>20.0</td>\n",
       "    </tr>\n",
       "  </tbody>\n",
       "</table>\n",
       "</div>"
      ],
      "text/plain": [
       "   cover date_published            ean  pages_count  price  price_old  \\\n",
       "0      0     2020-06-03  9788381394093        480.0  26.73      39.90   \n",
       "1      0     2020-05-20  9788324077939        412.0  26.15      39.99   \n",
       "2      0     2020-05-06  9788366500167        384.0  28.73      39.90   \n",
       "3      0     2020-05-13  9788364076954        360.0  25.94      39.99   \n",
       "4      0     2020-05-20  9788328052062        560.0  31.99      39.99   \n",
       "\n",
       "       publisher                         series  \\\n",
       "0  Świat Książki  Kolekcja dzieł Kristin Hannah   \n",
       "1           Znak                            NaN   \n",
       "2      Marginesy                            NaN   \n",
       "3       Polityka                            NaN   \n",
       "4       Uroboros                            NaN   \n",
       "\n",
       "                                               title  isPolish  \\\n",
       "0                                   Prawdziwe kolory         1   \n",
       "1                                     Pani Churchill         1   \n",
       "2                                              Wyrwa         1   \n",
       "3  W Polsce, czyli wszędzie. Rzecz o upadku i prz...         1   \n",
       "4  Dom Ziemi i Krwi. Część 1. Cykl Księżycowe mia...         1   \n",
       "\n",
       "               subject  width  height  \n",
       "0                prose   13.5    21.5  \n",
       "1          biographies   13.5    20.5  \n",
       "2  crime and sensation   13.5    21.0  \n",
       "3          non-fiction   14.0    20.5  \n",
       "4            fantastic   13.5    20.0  "
      ]
     },
     "execution_count": 20,
     "metadata": {},
     "output_type": "execute_result"
    }
   ],
   "source": [
    "df[:5]"
   ]
  },
  {
   "cell_type": "code",
   "execution_count": 21,
   "metadata": {},
   "outputs": [
    {
     "name": "stdout",
     "output_type": "stream",
     "text": [
      "<class 'pandas.core.frame.DataFrame'>\n",
      "RangeIndex: 71441 entries, 0 to 71440\n",
      "Data columns (total 13 columns):\n",
      "cover             71441 non-null int32\n",
      "date_published    71429 non-null datetime64[ns]\n",
      "ean               71441 non-null int64\n",
      "pages_count       68194 non-null float64\n",
      "price             71441 non-null float64\n",
      "price_old         66528 non-null float64\n",
      "publisher         71431 non-null object\n",
      "series            5515 non-null object\n",
      "title             71441 non-null object\n",
      "isPolish          71441 non-null int32\n",
      "subject           71441 non-null category\n",
      "width             68442 non-null float64\n",
      "height            68403 non-null float64\n",
      "dtypes: category(1), datetime64[ns](1), float64(5), int32(2), int64(1), object(3)\n",
      "memory usage: 6.1+ MB\n"
     ]
    }
   ],
   "source": [
    "df.info()"
   ]
  },
  {
   "cell_type": "markdown",
   "metadata": {},
   "source": [
    "### Missing values\n",
    "Missing values are a very small portion of the whole dataset (except for the 'series' column, which is not essential). These nans will be filled by either mean or mode of the column."
   ]
  },
  {
   "cell_type": "code",
   "execution_count": 22,
   "metadata": {},
   "outputs": [],
   "source": [
    "df.date_published.fillna(df.date_published.mode()[0], inplace=True)\n",
    "df.pages_count.fillna(round(df.pages_count.mean()), inplace=True)\n",
    "df.publisher.fillna(df.publisher.mode()[0], inplace=True)\n",
    "df.cover.fillna(df.cover.mode()[0], inplace=True)\n",
    "df.width.fillna(df.width.mode()[0], inplace=True)\n",
    "df.height.fillna(df.height.mode()[0], inplace=True)\n",
    "df.subject.fillna(df.subject.mode()[0], inplace=True)"
   ]
  },
  {
   "cell_type": "markdown",
   "metadata": {},
   "source": [
    "The sole exception is the old price, which will be filled by the values in the price column in order to make further analysis easier."
   ]
  },
  {
   "cell_type": "code",
   "execution_count": 23,
   "metadata": {},
   "outputs": [],
   "source": [
    "df.price_old.fillna(df.price, inplace=True)"
   ]
  },
  {
   "cell_type": "markdown",
   "metadata": {},
   "source": [
    "### Outliers"
   ]
  },
  {
   "cell_type": "code",
   "execution_count": 24,
   "metadata": {},
   "outputs": [
    {
     "data": {
      "text/html": [
       "<div>\n",
       "<style scoped>\n",
       "    .dataframe tbody tr th:only-of-type {\n",
       "        vertical-align: middle;\n",
       "    }\n",
       "\n",
       "    .dataframe tbody tr th {\n",
       "        vertical-align: top;\n",
       "    }\n",
       "\n",
       "    .dataframe thead th {\n",
       "        text-align: right;\n",
       "    }\n",
       "</style>\n",
       "<table border=\"1\" class=\"dataframe\">\n",
       "  <thead>\n",
       "    <tr style=\"text-align: right;\">\n",
       "      <th></th>\n",
       "      <th>cover</th>\n",
       "      <th>ean</th>\n",
       "      <th>pages_count</th>\n",
       "      <th>price</th>\n",
       "      <th>price_old</th>\n",
       "      <th>isPolish</th>\n",
       "      <th>width</th>\n",
       "      <th>height</th>\n",
       "    </tr>\n",
       "  </thead>\n",
       "  <tbody>\n",
       "    <tr>\n",
       "      <th>count</th>\n",
       "      <td>7.144100e+04</td>\n",
       "      <td>7.144100e+04</td>\n",
       "      <td>7.144100e+04</td>\n",
       "      <td>71441.000000</td>\n",
       "      <td>71441.000000</td>\n",
       "      <td>71441.000000</td>\n",
       "      <td>71441.000000</td>\n",
       "      <td>71441.000000</td>\n",
       "    </tr>\n",
       "    <tr>\n",
       "      <th>mean</th>\n",
       "      <td>-2.072004e+08</td>\n",
       "      <td>9.389373e+12</td>\n",
       "      <td>4.834563e+02</td>\n",
       "      <td>43.513367</td>\n",
       "      <td>51.280567</td>\n",
       "      <td>0.639745</td>\n",
       "      <td>16.672327</td>\n",
       "      <td>20.834691</td>\n",
       "    </tr>\n",
       "    <tr>\n",
       "      <th>std</th>\n",
       "      <td>6.340608e+08</td>\n",
       "      <td>1.703652e+12</td>\n",
       "      <td>5.492741e+04</td>\n",
       "      <td>39.493178</td>\n",
       "      <td>40.874070</td>\n",
       "      <td>0.480078</td>\n",
       "      <td>4.581162</td>\n",
       "      <td>4.369675</td>\n",
       "    </tr>\n",
       "    <tr>\n",
       "      <th>min</th>\n",
       "      <td>-2.147484e+09</td>\n",
       "      <td>1.000000e+12</td>\n",
       "      <td>1.000000e+00</td>\n",
       "      <td>0.720000</td>\n",
       "      <td>1.000000</td>\n",
       "      <td>0.000000</td>\n",
       "      <td>1.000000</td>\n",
       "      <td>0.500000</td>\n",
       "    </tr>\n",
       "    <tr>\n",
       "      <th>25%</th>\n",
       "      <td>0.000000e+00</td>\n",
       "      <td>9.781542e+12</td>\n",
       "      <td>1.360000e+02</td>\n",
       "      <td>23.500000</td>\n",
       "      <td>31.900000</td>\n",
       "      <td>0.000000</td>\n",
       "      <td>13.500000</td>\n",
       "      <td>19.500000</td>\n",
       "    </tr>\n",
       "    <tr>\n",
       "      <th>50%</th>\n",
       "      <td>0.000000e+00</td>\n",
       "      <td>9.788327e+12</td>\n",
       "      <td>2.560000e+02</td>\n",
       "      <td>33.000000</td>\n",
       "      <td>39.900000</td>\n",
       "      <td>1.000000</td>\n",
       "      <td>15.000000</td>\n",
       "      <td>20.500000</td>\n",
       "    </tr>\n",
       "    <tr>\n",
       "      <th>75%</th>\n",
       "      <td>1.000000e+00</td>\n",
       "      <td>9.788375e+12</td>\n",
       "      <td>3.840000e+02</td>\n",
       "      <td>48.000000</td>\n",
       "      <td>55.000000</td>\n",
       "      <td>1.000000</td>\n",
       "      <td>19.700000</td>\n",
       "      <td>23.000000</td>\n",
       "    </tr>\n",
       "    <tr>\n",
       "      <th>max</th>\n",
       "      <td>1.000000e+00</td>\n",
       "      <td>9.997984e+12</td>\n",
       "      <td>1.468143e+07</td>\n",
       "      <td>1191.000000</td>\n",
       "      <td>1191.000000</td>\n",
       "      <td>1.000000</td>\n",
       "      <td>85.100000</td>\n",
       "      <td>98.000000</td>\n",
       "    </tr>\n",
       "  </tbody>\n",
       "</table>\n",
       "</div>"
      ],
      "text/plain": [
       "              cover           ean   pages_count         price     price_old  \\\n",
       "count  7.144100e+04  7.144100e+04  7.144100e+04  71441.000000  71441.000000   \n",
       "mean  -2.072004e+08  9.389373e+12  4.834563e+02     43.513367     51.280567   \n",
       "std    6.340608e+08  1.703652e+12  5.492741e+04     39.493178     40.874070   \n",
       "min   -2.147484e+09  1.000000e+12  1.000000e+00      0.720000      1.000000   \n",
       "25%    0.000000e+00  9.781542e+12  1.360000e+02     23.500000     31.900000   \n",
       "50%    0.000000e+00  9.788327e+12  2.560000e+02     33.000000     39.900000   \n",
       "75%    1.000000e+00  9.788375e+12  3.840000e+02     48.000000     55.000000   \n",
       "max    1.000000e+00  9.997984e+12  1.468143e+07   1191.000000   1191.000000   \n",
       "\n",
       "           isPolish         width        height  \n",
       "count  71441.000000  71441.000000  71441.000000  \n",
       "mean       0.639745     16.672327     20.834691  \n",
       "std        0.480078      4.581162      4.369675  \n",
       "min        0.000000      1.000000      0.500000  \n",
       "25%        0.000000     13.500000     19.500000  \n",
       "50%        1.000000     15.000000     20.500000  \n",
       "75%        1.000000     19.700000     23.000000  \n",
       "max        1.000000     85.100000     98.000000  "
      ]
     },
     "execution_count": 24,
     "metadata": {},
     "output_type": "execute_result"
    }
   ],
   "source": [
    "df.describe()"
   ]
  },
  {
   "cell_type": "markdown",
   "metadata": {},
   "source": [
    "The standard deviation and extreme values indicate that the dataset contains outliers - few really expensive books, which impact the rest of the values. Such examples of those kind of entries are books containing very specialistic knowledge or having some kind of artistic value."
   ]
  },
  {
   "cell_type": "code",
   "execution_count": 25,
   "metadata": {},
   "outputs": [
    {
     "data": {
      "text/html": [
       "<div>\n",
       "<style scoped>\n",
       "    .dataframe tbody tr th:only-of-type {\n",
       "        vertical-align: middle;\n",
       "    }\n",
       "\n",
       "    .dataframe tbody tr th {\n",
       "        vertical-align: top;\n",
       "    }\n",
       "\n",
       "    .dataframe thead th {\n",
       "        text-align: right;\n",
       "    }\n",
       "</style>\n",
       "<table border=\"1\" class=\"dataframe\">\n",
       "  <thead>\n",
       "    <tr style=\"text-align: right;\">\n",
       "      <th></th>\n",
       "      <th>cover</th>\n",
       "      <th>date_published</th>\n",
       "      <th>ean</th>\n",
       "      <th>pages_count</th>\n",
       "      <th>price</th>\n",
       "      <th>price_old</th>\n",
       "      <th>publisher</th>\n",
       "      <th>series</th>\n",
       "      <th>title</th>\n",
       "      <th>isPolish</th>\n",
       "      <th>subject</th>\n",
       "      <th>width</th>\n",
       "      <th>height</th>\n",
       "    </tr>\n",
       "  </thead>\n",
       "  <tbody>\n",
       "    <tr>\n",
       "      <th>4335</th>\n",
       "      <td>1</td>\n",
       "      <td>2008-11-01</td>\n",
       "      <td>9781604060348</td>\n",
       "      <td>483.0</td>\n",
       "      <td>1191.0</td>\n",
       "      <td>1191.0</td>\n",
       "      <td>Thieme Georg Verlag</td>\n",
       "      <td>NaN</td>\n",
       "      <td>Vascular Neurosurgery</td>\n",
       "      <td>0</td>\n",
       "      <td>english</td>\n",
       "      <td>28.9</td>\n",
       "      <td>22.5</td>\n",
       "    </tr>\n",
       "    <tr>\n",
       "      <th>4317</th>\n",
       "      <td>1</td>\n",
       "      <td>2005-03-01</td>\n",
       "      <td>9783131309716</td>\n",
       "      <td>280.0</td>\n",
       "      <td>933.0</td>\n",
       "      <td>933.0</td>\n",
       "      <td>Thieme Georg Verlag</td>\n",
       "      <td>NaN</td>\n",
       "      <td>Endoscopic Sinus Surgery - And Extended Applic...</td>\n",
       "      <td>0</td>\n",
       "      <td>german</td>\n",
       "      <td>27.7</td>\n",
       "      <td>20.3</td>\n",
       "    </tr>\n",
       "    <tr>\n",
       "      <th>26125</th>\n",
       "      <td>1</td>\n",
       "      <td>2019-07-03</td>\n",
       "      <td>9783836526326</td>\n",
       "      <td>744.0</td>\n",
       "      <td>775.9</td>\n",
       "      <td>775.9</td>\n",
       "      <td>Taschen GmbH</td>\n",
       "      <td>NaN</td>\n",
       "      <td>Rembrandt. The Complete Paintings</td>\n",
       "      <td>0</td>\n",
       "      <td>english</td>\n",
       "      <td>43.5</td>\n",
       "      <td>36.8</td>\n",
       "    </tr>\n",
       "    <tr>\n",
       "      <th>4334</th>\n",
       "      <td>1</td>\n",
       "      <td>2006-06-01</td>\n",
       "      <td>9783131418814</td>\n",
       "      <td>304.0</td>\n",
       "      <td>682.0</td>\n",
       "      <td>682.0</td>\n",
       "      <td>Thieme Georg Verlag</td>\n",
       "      <td>NaN</td>\n",
       "      <td>Controversies in Neurological Surgery</td>\n",
       "      <td>0</td>\n",
       "      <td>english</td>\n",
       "      <td>29.1</td>\n",
       "      <td>22.3</td>\n",
       "    </tr>\n",
       "    <tr>\n",
       "      <th>28772</th>\n",
       "      <td>1</td>\n",
       "      <td>2018-10-18</td>\n",
       "      <td>9783319910437</td>\n",
       "      <td>512.0</td>\n",
       "      <td>651.9</td>\n",
       "      <td>651.9</td>\n",
       "      <td>Springer International Publishing AG</td>\n",
       "      <td>NaN</td>\n",
       "      <td>The SAGES Atlas of Robotic Surgery</td>\n",
       "      <td>0</td>\n",
       "      <td>english</td>\n",
       "      <td>28.6</td>\n",
       "      <td>21.8</td>\n",
       "    </tr>\n",
       "  </tbody>\n",
       "</table>\n",
       "</div>"
      ],
      "text/plain": [
       "       cover date_published            ean  pages_count   price  price_old  \\\n",
       "4335       1     2008-11-01  9781604060348        483.0  1191.0     1191.0   \n",
       "4317       1     2005-03-01  9783131309716        280.0   933.0      933.0   \n",
       "26125      1     2019-07-03  9783836526326        744.0   775.9      775.9   \n",
       "4334       1     2006-06-01  9783131418814        304.0   682.0      682.0   \n",
       "28772      1     2018-10-18  9783319910437        512.0   651.9      651.9   \n",
       "\n",
       "                                  publisher series  \\\n",
       "4335                    Thieme Georg Verlag    NaN   \n",
       "4317                    Thieme Georg Verlag    NaN   \n",
       "26125                          Taschen GmbH    NaN   \n",
       "4334                    Thieme Georg Verlag    NaN   \n",
       "28772  Springer International Publishing AG    NaN   \n",
       "\n",
       "                                                   title  isPolish  subject  \\\n",
       "4335                               Vascular Neurosurgery         0  english   \n",
       "4317   Endoscopic Sinus Surgery - And Extended Applic...         0   german   \n",
       "26125                  Rembrandt. The Complete Paintings         0  english   \n",
       "4334               Controversies in Neurological Surgery         0  english   \n",
       "28772                 The SAGES Atlas of Robotic Surgery         0  english   \n",
       "\n",
       "       width  height  \n",
       "4335    28.9    22.5  \n",
       "4317    27.7    20.3  \n",
       "26125   43.5    36.8  \n",
       "4334    29.1    22.3  \n",
       "28772   28.6    21.8  "
      ]
     },
     "execution_count": 25,
     "metadata": {},
     "output_type": "execute_result"
    }
   ],
   "source": [
    "df.nlargest(5, 'price')"
   ]
  },
  {
   "cell_type": "markdown",
   "metadata": {},
   "source": [
    "The boxplots visualise the density of the set. It can be seen that few entries deviate greatly from the boxes and even data that is pictured as an outliers. "
   ]
  },
  {
   "cell_type": "code",
   "execution_count": 26,
   "metadata": {},
   "outputs": [
    {
     "data": {
      "text/plain": [
       "<matplotlib.axes._subplots.AxesSubplot at 0x122f8053848>"
      ]
     },
     "execution_count": 26,
     "metadata": {},
     "output_type": "execute_result"
    },
    {
     "data": {
      "image/png": "[encoded data removed]",
      "text/plain": [
       "<Figure size 432x288 with 1 Axes>"
      ]
     },
     "metadata": {
      "needs_background": "light"
     },
     "output_type": "display_data"
    }
   ],
   "source": [
    "df[['price', 'price_old']].plot.box()"
   ]
  },
  {
   "cell_type": "markdown",
   "metadata": {},
   "source": [
    "The IQR method is used by boxplots in order to display the shape of data. From what can be observed from the graphs above, using this method to remove the outliers will reduce the entries in dataset greatly. It's important to avoid disposing of data that is not an outlier, rather just an entry that is simply more expensive."
   ]
  },
  {
   "cell_type": "markdown",
   "metadata": {},
   "source": [
    "For this reason, z-score method seems to be the right method to implement. The entries too far from 0 are going to be detected as an outlier. The standard treshold will be applied (only entries with z-score fitting in range 3 and -3 will remain)."
   ]
  },
  {
   "cell_type": "code",
   "execution_count": 27,
   "metadata": {},
   "outputs": [],
   "source": [
    "df_no_outliers = df[(abs(stats.zscore(df['price']))<3) & (abs(stats.zscore(df['price']))>-3)]\n",
    "df_no_outliers = df_no_outliers[(abs(stats.zscore(df_no_outliers['price_old']))<3) & (abs(stats.zscore(df_no_outliers['price_old']))>-3)]"
   ]
  },
  {
   "cell_type": "code",
   "execution_count": 28,
   "metadata": {
    "scrolled": true
   },
   "outputs": [
    {
     "data": {
      "text/plain": [
       "<matplotlib.axes._subplots.AxesSubplot at 0x122f80f3b08>"
      ]
     },
     "execution_count": 28,
     "metadata": {},
     "output_type": "execute_result"
    },
    {
     "data": {
      "image/png": "[encoded data removed]",
      "text/plain": [
       "<Figure size 432x288 with 1 Axes>"
      ]
     },
     "metadata": {
      "needs_background": "light"
     },
     "output_type": "display_data"
    }
   ],
   "source": [
    "df_no_outliers[['price', 'price_old']].plot.box(showmeans=True)"
   ]
  },
  {
   "cell_type": "code",
   "execution_count": 29,
   "metadata": {},
   "outputs": [
    {
     "data": {
      "text/html": [
       "<div>\n",
       "<style scoped>\n",
       "    .dataframe tbody tr th:only-of-type {\n",
       "        vertical-align: middle;\n",
       "    }\n",
       "\n",
       "    .dataframe tbody tr th {\n",
       "        vertical-align: top;\n",
       "    }\n",
       "\n",
       "    .dataframe thead th {\n",
       "        text-align: right;\n",
       "    }\n",
       "</style>\n",
       "<table border=\"1\" class=\"dataframe\">\n",
       "  <thead>\n",
       "    <tr style=\"text-align: right;\">\n",
       "      <th></th>\n",
       "      <th>cover</th>\n",
       "      <th>ean</th>\n",
       "      <th>pages_count</th>\n",
       "      <th>price</th>\n",
       "      <th>price_old</th>\n",
       "      <th>isPolish</th>\n",
       "      <th>width</th>\n",
       "      <th>height</th>\n",
       "    </tr>\n",
       "  </thead>\n",
       "  <tbody>\n",
       "    <tr>\n",
       "      <th>count</th>\n",
       "      <td>6.859800e+04</td>\n",
       "      <td>6.859800e+04</td>\n",
       "      <td>68598.000000</td>\n",
       "      <td>68598.000000</td>\n",
       "      <td>68598.000000</td>\n",
       "      <td>68598.000000</td>\n",
       "      <td>68598.000000</td>\n",
       "      <td>68598.000000</td>\n",
       "    </tr>\n",
       "    <tr>\n",
       "      <th>mean</th>\n",
       "      <td>-2.140972e+08</td>\n",
       "      <td>9.377799e+12</td>\n",
       "      <td>269.391834</td>\n",
       "      <td>37.637600</td>\n",
       "      <td>45.148734</td>\n",
       "      <td>0.655486</td>\n",
       "      <td>16.516616</td>\n",
       "      <td>20.761577</td>\n",
       "    </tr>\n",
       "    <tr>\n",
       "      <th>std</th>\n",
       "      <td>6.433807e+08</td>\n",
       "      <td>1.727116e+12</td>\n",
       "      <td>181.507835</td>\n",
       "      <td>23.565125</td>\n",
       "      <td>24.114386</td>\n",
       "      <td>0.475213</td>\n",
       "      <td>4.446368</td>\n",
       "      <td>4.347001</td>\n",
       "    </tr>\n",
       "    <tr>\n",
       "      <th>min</th>\n",
       "      <td>-2.147484e+09</td>\n",
       "      <td>1.000000e+12</td>\n",
       "      <td>1.000000</td>\n",
       "      <td>0.720000</td>\n",
       "      <td>1.000000</td>\n",
       "      <td>0.000000</td>\n",
       "      <td>1.000000</td>\n",
       "      <td>0.500000</td>\n",
       "    </tr>\n",
       "    <tr>\n",
       "      <th>25%</th>\n",
       "      <td>0.000000e+00</td>\n",
       "      <td>9.781627e+12</td>\n",
       "      <td>128.000000</td>\n",
       "      <td>23.040000</td>\n",
       "      <td>31.000000</td>\n",
       "      <td>0.000000</td>\n",
       "      <td>13.500000</td>\n",
       "      <td>19.500000</td>\n",
       "    </tr>\n",
       "    <tr>\n",
       "      <th>50%</th>\n",
       "      <td>0.000000e+00</td>\n",
       "      <td>9.788327e+12</td>\n",
       "      <td>256.000000</td>\n",
       "      <td>32.500000</td>\n",
       "      <td>39.900000</td>\n",
       "      <td>1.000000</td>\n",
       "      <td>15.000000</td>\n",
       "      <td>20.500000</td>\n",
       "    </tr>\n",
       "    <tr>\n",
       "      <th>75%</th>\n",
       "      <td>1.000000e+00</td>\n",
       "      <td>9.788375e+12</td>\n",
       "      <td>384.000000</td>\n",
       "      <td>46.000000</td>\n",
       "      <td>51.900000</td>\n",
       "      <td>1.000000</td>\n",
       "      <td>19.500000</td>\n",
       "      <td>23.000000</td>\n",
       "    </tr>\n",
       "    <tr>\n",
       "      <th>max</th>\n",
       "      <td>1.000000e+00</td>\n",
       "      <td>9.997984e+12</td>\n",
       "      <td>2748.000000</td>\n",
       "      <td>131.500000</td>\n",
       "      <td>131.500000</td>\n",
       "      <td>1.000000</td>\n",
       "      <td>85.100000</td>\n",
       "      <td>98.000000</td>\n",
       "    </tr>\n",
       "  </tbody>\n",
       "</table>\n",
       "</div>"
      ],
      "text/plain": [
       "              cover           ean   pages_count         price     price_old  \\\n",
       "count  6.859800e+04  6.859800e+04  68598.000000  68598.000000  68598.000000   \n",
       "mean  -2.140972e+08  9.377799e+12    269.391834     37.637600     45.148734   \n",
       "std    6.433807e+08  1.727116e+12    181.507835     23.565125     24.114386   \n",
       "min   -2.147484e+09  1.000000e+12      1.000000      0.720000      1.000000   \n",
       "25%    0.000000e+00  9.781627e+12    128.000000     23.040000     31.000000   \n",
       "50%    0.000000e+00  9.788327e+12    256.000000     32.500000     39.900000   \n",
       "75%    1.000000e+00  9.788375e+12    384.000000     46.000000     51.900000   \n",
       "max    1.000000e+00  9.997984e+12   2748.000000    131.500000    131.500000   \n",
       "\n",
       "           isPolish         width        height  \n",
       "count  68598.000000  68598.000000  68598.000000  \n",
       "mean       0.655486     16.516616     20.761577  \n",
       "std        0.475213      4.446368      4.347001  \n",
       "min        0.000000      1.000000      0.500000  \n",
       "25%        0.000000     13.500000     19.500000  \n",
       "50%        1.000000     15.000000     20.500000  \n",
       "75%        1.000000     19.500000     23.000000  \n",
       "max        1.000000     85.100000     98.000000  "
      ]
     },
     "execution_count": 29,
     "metadata": {},
     "output_type": "execute_result"
    }
   ],
   "source": [
    "df_no_outliers.describe()"
   ]
  },
  {
   "cell_type": "markdown",
   "metadata": {},
   "source": [
    "## Factors influencing the price"
   ]
  },
  {
   "cell_type": "code",
   "execution_count": 30,
   "metadata": {},
   "outputs": [
    {
     "data": {
      "text/plain": [
       "<matplotlib.axes._subplots.AxesSubplot at 0x122f6e8bd88>"
      ]
     },
     "execution_count": 30,
     "metadata": {},
     "output_type": "execute_result"
    },
    {
     "data": {
      "image/png": "[encoded data removed]",
      "text/plain": [
       "<Figure size 720x576 with 2 Axes>"
      ]
     },
     "metadata": {
      "needs_background": "light"
     },
     "output_type": "display_data"
    }
   ],
   "source": [
    "import seaborn as sns\n",
    "\n",
    "f, ax = plt.subplots(figsize=(10, 8))\n",
    "corr = df_no_outliers.corr()\n",
    "sns.heatmap(corr, mask=np.zeros_like(corr, dtype=np.bool), cmap=sns.diverging_palette(220, 10, as_cmap=True),\n",
    "            square=True, ax=ax)"
   ]
  },
  {
   "cell_type": "markdown",
   "metadata": {},
   "source": [
    "As it can be observed in the heatmap above: \n",
    "* there is a strong negative correlation between price and whether book is Polish or not. \n",
    "* the former price and price are highly correlated, however as they cannot be treated independently this correlation is not taken into consideration. \n",
    "* there is a very small correlation between the price and the type of the cover or the size of the book. \n",
    "* the pages count seems to slightly influence the original prices, however this can no longer be observed with the prices after the discount."
   ]
  },
  {
   "cell_type": "code",
   "execution_count": 31,
   "metadata": {},
   "outputs": [
    {
     "name": "stdout",
     "output_type": "stream",
     "text": [
      "Polish book mean price: 28, non-Polish book mean price: 56\n",
      "Polish book mean original price: 37, non-Polish book mean original price: 61\n"
     ]
    }
   ],
   "source": [
    "pl = round(df_no_outliers[df_no_outliers.isPolish == 1]['price'].mean())\n",
    "en = round(df_no_outliers[df_no_outliers.isPolish == 0]['price'].mean())\n",
    "pl_o = round(df_no_outliers[df_no_outliers.isPolish == 1]['price_old'].mean())\n",
    "en_o = round(df_no_outliers[df_no_outliers.isPolish == 0]['price_old'].mean())\n",
    "print('Polish book mean price: {}, non-Polish book mean price: {}\\nPolish book mean original price: {}, non-Polish book mean original price: {}'.format(pl, en, pl_o, en_o))"
   ]
  },
  {
   "cell_type": "markdown",
   "metadata": {},
   "source": [
    "Next, the data will be grouped by the subject as it is another factor to be taken into consideration."
   ]
  },
  {
   "cell_type": "code",
   "execution_count": 32,
   "metadata": {},
   "outputs": [],
   "source": [
    "price_sub_mean = df_no_outliers[['price', 'price_old', 'subject']].groupby('subject').mean()\n",
    "price_sub_mean['price_diff'] = price_sub_mean['price_old'] - price_sub_mean['price']"
   ]
  },
  {
   "cell_type": "code",
   "execution_count": 33,
   "metadata": {},
   "outputs": [
    {
     "data": {
      "image/png": "[encoded data removed]",
      "text/plain": [
       "<Figure size 432x936 with 1 Axes>"
      ]
     },
     "metadata": {
      "needs_background": "light"
     },
     "output_type": "display_data"
    }
   ],
   "source": [
    "ax = price_sub_mean.sort_values('price').plot.barh(figsize=(6,13), title='Mean prices per category (PLN)')"
   ]
  },
  {
   "cell_type": "markdown",
   "metadata": {},
   "source": [
    "The graph above shows the distribution of mean prices, gruped by the subject. The most expensive category is law, followed by Spanish and German. The cheapest ones are readings, press and books for children.\n",
    "\n",
    "The biggest difference between the former price and current price can be observed in the outlets category (which is self-explanatory)."
   ]
  },
  {
   "cell_type": "code",
   "execution_count": 34,
   "metadata": {},
   "outputs": [],
   "source": [
    "df_desc = df_no_outliers[['price', 'subject']].groupby('subject').agg({'price': [np.mean, np.std, len]}).rename(columns={'len':'count'})"
   ]
  },
  {
   "cell_type": "code",
   "execution_count": 35,
   "metadata": {},
   "outputs": [
    {
     "data": {
      "text/html": [
       "<style  type=\"text/css\" >\n",
       "    #T_622a1762_aee2_11ea_8b55_50465da4e09erow3_col1 {\n",
       "            : ;\n",
       "            background-color:  #f7bfba;\n",
       "        }    #T_622a1762_aee2_11ea_8b55_50465da4e09erow3_col2 {\n",
       "            : ;\n",
       "            background-color:  #f7bfba;\n",
       "        }    #T_622a1762_aee2_11ea_8b55_50465da4e09erow7_col1 {\n",
       "            : ;\n",
       "            background-color:  #f7bfba;\n",
       "        }    #T_622a1762_aee2_11ea_8b55_50465da4e09erow10_col2 {\n",
       "            background-color:  #adedbe;\n",
       "            : ;\n",
       "        }    #T_622a1762_aee2_11ea_8b55_50465da4e09erow13_col0 {\n",
       "            : ;\n",
       "            background-color:  #f7bfba;\n",
       "        }    #T_622a1762_aee2_11ea_8b55_50465da4e09erow15_col2 {\n",
       "            background-color:  #adedbe;\n",
       "            : ;\n",
       "        }    #T_622a1762_aee2_11ea_8b55_50465da4e09erow17_col0 {\n",
       "            background-color:  #adedbe;\n",
       "            : ;\n",
       "        }    #T_622a1762_aee2_11ea_8b55_50465da4e09erow23_col0 {\n",
       "            background-color:  #adedbe;\n",
       "            : ;\n",
       "        }    #T_622a1762_aee2_11ea_8b55_50465da4e09erow23_col1 {\n",
       "            background-color:  #adedbe;\n",
       "            : ;\n",
       "        }    #T_622a1762_aee2_11ea_8b55_50465da4e09erow26_col1 {\n",
       "            background-color:  #adedbe;\n",
       "            : ;\n",
       "        }    #T_622a1762_aee2_11ea_8b55_50465da4e09erow26_col2 {\n",
       "            : ;\n",
       "            background-color:  #f7bfba;\n",
       "        }    #T_622a1762_aee2_11ea_8b55_50465da4e09erow28_col1 {\n",
       "            : ;\n",
       "            background-color:  #f7bfba;\n",
       "        }    #T_622a1762_aee2_11ea_8b55_50465da4e09erow29_col0 {\n",
       "            : ;\n",
       "            background-color:  #f7bfba;\n",
       "        }    #T_622a1762_aee2_11ea_8b55_50465da4e09erow30_col2 {\n",
       "            background-color:  #adedbe;\n",
       "            : ;\n",
       "        }    #T_622a1762_aee2_11ea_8b55_50465da4e09erow32_col0 {\n",
       "            : ;\n",
       "            background-color:  #f7bfba;\n",
       "        }    #T_622a1762_aee2_11ea_8b55_50465da4e09erow34_col1 {\n",
       "            background-color:  #adedbe;\n",
       "            : ;\n",
       "        }    #T_622a1762_aee2_11ea_8b55_50465da4e09erow34_col2 {\n",
       "            : ;\n",
       "            background-color:  #f7bfba;\n",
       "        }    #T_622a1762_aee2_11ea_8b55_50465da4e09erow36_col0 {\n",
       "            background-color:  #adedbe;\n",
       "            : ;\n",
       "        }</style><table id=\"T_622a1762_aee2_11ea_8b55_50465da4e09e\" ><thead>    <tr>        <th class=\"blank level0\" ></th>        <th class=\"col_heading level0 col0\" colspan=3>price</th>    </tr>    <tr>        <th class=\"blank level1\" ></th>        <th class=\"col_heading level1 col0\" >mean</th>        <th class=\"col_heading level1 col1\" >std</th>        <th class=\"col_heading level1 col2\" >count</th>    </tr>    <tr>        <th class=\"index_name level0\" >subject</th>        <th class=\"blank\" ></th>        <th class=\"blank\" ></th>        <th class=\"blank\" ></th>    </tr></thead><tbody>\n",
       "                <tr>\n",
       "                        <th id=\"T_622a1762_aee2_11ea_8b55_50465da4e09elevel0_row0\" class=\"row_heading level0 row0\" >albums</th>\n",
       "                        <td id=\"T_622a1762_aee2_11ea_8b55_50465da4e09erow0_col0\" class=\"data row0 col0\" >47.3348</td>\n",
       "                        <td id=\"T_622a1762_aee2_11ea_8b55_50465da4e09erow0_col1\" class=\"data row0 col1\" >26.6338</td>\n",
       "                        <td id=\"T_622a1762_aee2_11ea_8b55_50465da4e09erow0_col2\" class=\"data row0 col2\" >682</td>\n",
       "            </tr>\n",
       "            <tr>\n",
       "                        <th id=\"T_622a1762_aee2_11ea_8b55_50465da4e09elevel0_row1\" class=\"row_heading level0 row1\" >audiobook</th>\n",
       "                        <td id=\"T_622a1762_aee2_11ea_8b55_50465da4e09erow1_col0\" class=\"data row1 col0\" >24.8397</td>\n",
       "                        <td id=\"T_622a1762_aee2_11ea_8b55_50465da4e09erow1_col1\" class=\"data row1 col1\" >7.59347</td>\n",
       "                        <td id=\"T_622a1762_aee2_11ea_8b55_50465da4e09erow1_col2\" class=\"data row1 col2\" >1308</td>\n",
       "            </tr>\n",
       "            <tr>\n",
       "                        <th id=\"T_622a1762_aee2_11ea_8b55_50465da4e09elevel0_row2\" class=\"row_heading level0 row2\" >biographies</th>\n",
       "                        <td id=\"T_622a1762_aee2_11ea_8b55_50465da4e09erow2_col0\" class=\"data row2 col0\" >32.7692</td>\n",
       "                        <td id=\"T_622a1762_aee2_11ea_8b55_50465da4e09erow2_col1\" class=\"data row2 col1\" >11.7678</td>\n",
       "                        <td id=\"T_622a1762_aee2_11ea_8b55_50465da4e09erow2_col2\" class=\"data row2 col2\" >2027</td>\n",
       "            </tr>\n",
       "            <tr>\n",
       "                        <th id=\"T_622a1762_aee2_11ea_8b55_50465da4e09elevel0_row3\" class=\"row_heading level0 row3\" >book autographed by the author</th>\n",
       "                        <td id=\"T_622a1762_aee2_11ea_8b55_50465da4e09erow3_col0\" class=\"data row3 col0\" >31.2857</td>\n",
       "                        <td id=\"T_622a1762_aee2_11ea_8b55_50465da4e09erow3_col1\" class=\"data row3 col1\" >3.14718</td>\n",
       "                        <td id=\"T_622a1762_aee2_11ea_8b55_50465da4e09erow3_col2\" class=\"data row3 col2\" >7</td>\n",
       "            </tr>\n",
       "            <tr>\n",
       "                        <th id=\"T_622a1762_aee2_11ea_8b55_50465da4e09elevel0_row4\" class=\"row_heading level0 row4\" >book with calendar</th>\n",
       "                        <td id=\"T_622a1762_aee2_11ea_8b55_50465da4e09erow4_col0\" class=\"data row4 col0\" >25.092</td>\n",
       "                        <td id=\"T_622a1762_aee2_11ea_8b55_50465da4e09erow4_col1\" class=\"data row4 col1\" >8.05578</td>\n",
       "                        <td id=\"T_622a1762_aee2_11ea_8b55_50465da4e09erow4_col2\" class=\"data row4 col2\" >20</td>\n",
       "            </tr>\n",
       "            <tr>\n",
       "                        <th id=\"T_622a1762_aee2_11ea_8b55_50465da4e09elevel0_row5\" class=\"row_heading level0 row5\" >business</th>\n",
       "                        <td id=\"T_622a1762_aee2_11ea_8b55_50465da4e09erow5_col0\" class=\"data row5 col0\" >45.5647</td>\n",
       "                        <td id=\"T_622a1762_aee2_11ea_8b55_50465da4e09erow5_col1\" class=\"data row5 col1\" >20.4872</td>\n",
       "                        <td id=\"T_622a1762_aee2_11ea_8b55_50465da4e09erow5_col2\" class=\"data row5 col2\" >845</td>\n",
       "            </tr>\n",
       "            <tr>\n",
       "                        <th id=\"T_622a1762_aee2_11ea_8b55_50465da4e09elevel0_row6\" class=\"row_heading level0 row6\" >comics</th>\n",
       "                        <td id=\"T_622a1762_aee2_11ea_8b55_50465da4e09erow6_col0\" class=\"data row6 col0\" >30.524</td>\n",
       "                        <td id=\"T_622a1762_aee2_11ea_8b55_50465da4e09erow6_col1\" class=\"data row6 col1\" >18.0085</td>\n",
       "                        <td id=\"T_622a1762_aee2_11ea_8b55_50465da4e09erow6_col2\" class=\"data row6 col2\" >954</td>\n",
       "            </tr>\n",
       "            <tr>\n",
       "                        <th id=\"T_622a1762_aee2_11ea_8b55_50465da4e09elevel0_row7\" class=\"row_heading level0 row7\" >crime and sensation</th>\n",
       "                        <td id=\"T_622a1762_aee2_11ea_8b55_50465da4e09erow7_col0\" class=\"data row7 col0\" >26.7946</td>\n",
       "                        <td id=\"T_622a1762_aee2_11ea_8b55_50465da4e09erow7_col1\" class=\"data row7 col1\" >6.56977</td>\n",
       "                        <td id=\"T_622a1762_aee2_11ea_8b55_50465da4e09erow7_col2\" class=\"data row7 col2\" >2541</td>\n",
       "            </tr>\n",
       "            <tr>\n",
       "                        <th id=\"T_622a1762_aee2_11ea_8b55_50465da4e09elevel0_row8\" class=\"row_heading level0 row8\" >culture and art</th>\n",
       "                        <td id=\"T_622a1762_aee2_11ea_8b55_50465da4e09erow8_col0\" class=\"data row8 col0\" >37.8518</td>\n",
       "                        <td id=\"T_622a1762_aee2_11ea_8b55_50465da4e09erow8_col1\" class=\"data row8 col1\" >17.3206</td>\n",
       "                        <td id=\"T_622a1762_aee2_11ea_8b55_50465da4e09erow8_col2\" class=\"data row8 col2\" >657</td>\n",
       "            </tr>\n",
       "            <tr>\n",
       "                        <th id=\"T_622a1762_aee2_11ea_8b55_50465da4e09elevel0_row9\" class=\"row_heading level0 row9\" >encyclopedias and dictionaries</th>\n",
       "                        <td id=\"T_622a1762_aee2_11ea_8b55_50465da4e09erow9_col0\" class=\"data row9 col0\" >31.6167</td>\n",
       "                        <td id=\"T_622a1762_aee2_11ea_8b55_50465da4e09erow9_col1\" class=\"data row9 col1\" >21.3084</td>\n",
       "                        <td id=\"T_622a1762_aee2_11ea_8b55_50465da4e09erow9_col2\" class=\"data row9 col2\" >66</td>\n",
       "            </tr>\n",
       "            <tr>\n",
       "                        <th id=\"T_622a1762_aee2_11ea_8b55_50465da4e09elevel0_row10\" class=\"row_heading level0 row10\" >english</th>\n",
       "                        <td id=\"T_622a1762_aee2_11ea_8b55_50465da4e09erow10_col0\" class=\"data row10 col0\" >56.1099</td>\n",
       "                        <td id=\"T_622a1762_aee2_11ea_8b55_50465da4e09erow10_col1\" class=\"data row10 col1\" >24.157</td>\n",
       "                        <td id=\"T_622a1762_aee2_11ea_8b55_50465da4e09erow10_col2\" class=\"data row10 col2\" >23428</td>\n",
       "            </tr>\n",
       "            <tr>\n",
       "                        <th id=\"T_622a1762_aee2_11ea_8b55_50465da4e09elevel0_row11\" class=\"row_heading level0 row11\" >entertainment, humor</th>\n",
       "                        <td id=\"T_622a1762_aee2_11ea_8b55_50465da4e09erow11_col0\" class=\"data row11 col0\" >23.4908</td>\n",
       "                        <td id=\"T_622a1762_aee2_11ea_8b55_50465da4e09erow11_col1\" class=\"data row11 col1\" >7.50999</td>\n",
       "                        <td id=\"T_622a1762_aee2_11ea_8b55_50465da4e09erow11_col2\" class=\"data row11 col2\" >50</td>\n",
       "            </tr>\n",
       "            <tr>\n",
       "                        <th id=\"T_622a1762_aee2_11ea_8b55_50465da4e09elevel0_row12\" class=\"row_heading level0 row12\" >esotericism</th>\n",
       "                        <td id=\"T_622a1762_aee2_11ea_8b55_50465da4e09erow12_col0\" class=\"data row12 col0\" >32.422</td>\n",
       "                        <td id=\"T_622a1762_aee2_11ea_8b55_50465da4e09erow12_col1\" class=\"data row12 col1\" >11.8945</td>\n",
       "                        <td id=\"T_622a1762_aee2_11ea_8b55_50465da4e09erow12_col2\" class=\"data row12 col2\" >171</td>\n",
       "            </tr>\n",
       "            <tr>\n",
       "                        <th id=\"T_622a1762_aee2_11ea_8b55_50465da4e09elevel0_row13\" class=\"row_heading level0 row13\" >factory outlets</th>\n",
       "                        <td id=\"T_622a1762_aee2_11ea_8b55_50465da4e09erow13_col0\" class=\"data row13 col0\" >13.123</td>\n",
       "                        <td id=\"T_622a1762_aee2_11ea_8b55_50465da4e09erow13_col1\" class=\"data row13 col1\" >10.0996</td>\n",
       "                        <td id=\"T_622a1762_aee2_11ea_8b55_50465da4e09erow13_col2\" class=\"data row13 col2\" >3523</td>\n",
       "            </tr>\n",
       "            <tr>\n",
       "                        <th id=\"T_622a1762_aee2_11ea_8b55_50465da4e09elevel0_row14\" class=\"row_heading level0 row14\" >fantastic</th>\n",
       "                        <td id=\"T_622a1762_aee2_11ea_8b55_50465da4e09erow14_col0\" class=\"data row14 col0\" >28.9448</td>\n",
       "                        <td id=\"T_622a1762_aee2_11ea_8b55_50465da4e09erow14_col1\" class=\"data row14 col1\" >8.27549</td>\n",
       "                        <td id=\"T_622a1762_aee2_11ea_8b55_50465da4e09erow14_col2\" class=\"data row14 col2\" >1194</td>\n",
       "            </tr>\n",
       "            <tr>\n",
       "                        <th id=\"T_622a1762_aee2_11ea_8b55_50465da4e09elevel0_row15\" class=\"row_heading level0 row15\" >for children</th>\n",
       "                        <td id=\"T_622a1762_aee2_11ea_8b55_50465da4e09erow15_col0\" class=\"data row15 col0\" >17.8704</td>\n",
       "                        <td id=\"T_622a1762_aee2_11ea_8b55_50465da4e09erow15_col1\" class=\"data row15 col1\" >10.0573</td>\n",
       "                        <td id=\"T_622a1762_aee2_11ea_8b55_50465da4e09erow15_col2\" class=\"data row15 col2\" >6633</td>\n",
       "            </tr>\n",
       "            <tr>\n",
       "                        <th id=\"T_622a1762_aee2_11ea_8b55_50465da4e09elevel0_row16\" class=\"row_heading level0 row16\" >french</th>\n",
       "                        <td id=\"T_622a1762_aee2_11ea_8b55_50465da4e09erow16_col0\" class=\"data row16 col0\" >57.0667</td>\n",
       "                        <td id=\"T_622a1762_aee2_11ea_8b55_50465da4e09erow16_col1\" class=\"data row16 col1\" >25.7875</td>\n",
       "                        <td id=\"T_622a1762_aee2_11ea_8b55_50465da4e09erow16_col2\" class=\"data row16 col2\" >12</td>\n",
       "            </tr>\n",
       "            <tr>\n",
       "                        <th id=\"T_622a1762_aee2_11ea_8b55_50465da4e09elevel0_row17\" class=\"row_heading level0 row17\" >german</th>\n",
       "                        <td id=\"T_622a1762_aee2_11ea_8b55_50465da4e09erow17_col0\" class=\"data row17 col0\" >64.5667</td>\n",
       "                        <td id=\"T_622a1762_aee2_11ea_8b55_50465da4e09erow17_col1\" class=\"data row17 col1\" >27.3116</td>\n",
       "                        <td id=\"T_622a1762_aee2_11ea_8b55_50465da4e09erow17_col2\" class=\"data row17 col2\" >162</td>\n",
       "            </tr>\n",
       "            <tr>\n",
       "                        <th id=\"T_622a1762_aee2_11ea_8b55_50465da4e09elevel0_row18\" class=\"row_heading level0 row18\" >guides</th>\n",
       "                        <td id=\"T_622a1762_aee2_11ea_8b55_50465da4e09erow18_col0\" class=\"data row18 col0\" >29.5695</td>\n",
       "                        <td id=\"T_622a1762_aee2_11ea_8b55_50465da4e09erow18_col1\" class=\"data row18 col1\" >12.0205</td>\n",
       "                        <td id=\"T_622a1762_aee2_11ea_8b55_50465da4e09erow18_col2\" class=\"data row18 col2\" >3120</td>\n",
       "            </tr>\n",
       "            <tr>\n",
       "                        <th id=\"T_622a1762_aee2_11ea_8b55_50465da4e09elevel0_row19\" class=\"row_heading level0 row19\" >history</th>\n",
       "                        <td id=\"T_622a1762_aee2_11ea_8b55_50465da4e09erow19_col0\" class=\"data row19 col0\" >33.9917</td>\n",
       "                        <td id=\"T_622a1762_aee2_11ea_8b55_50465da4e09erow19_col1\" class=\"data row19 col1\" >15.1209</td>\n",
       "                        <td id=\"T_622a1762_aee2_11ea_8b55_50465da4e09erow19_col2\" class=\"data row19 col2\" >2224</td>\n",
       "            </tr>\n",
       "            <tr>\n",
       "                        <th id=\"T_622a1762_aee2_11ea_8b55_50465da4e09elevel0_row20\" class=\"row_heading level0 row20\" >humanities</th>\n",
       "                        <td id=\"T_622a1762_aee2_11ea_8b55_50465da4e09erow20_col0\" class=\"data row20 col0\" >32.4254</td>\n",
       "                        <td id=\"T_622a1762_aee2_11ea_8b55_50465da4e09erow20_col1\" class=\"data row20 col1\" >12.0315</td>\n",
       "                        <td id=\"T_622a1762_aee2_11ea_8b55_50465da4e09erow20_col2\" class=\"data row20 col2\" >1598</td>\n",
       "            </tr>\n",
       "            <tr>\n",
       "                        <th id=\"T_622a1762_aee2_11ea_8b55_50465da4e09elevel0_row21\" class=\"row_heading level0 row21\" >informatics</th>\n",
       "                        <td id=\"T_622a1762_aee2_11ea_8b55_50465da4e09erow21_col0\" class=\"data row21 col0\" >52.5224</td>\n",
       "                        <td id=\"T_622a1762_aee2_11ea_8b55_50465da4e09erow21_col1\" class=\"data row21 col1\" >24.1969</td>\n",
       "                        <td id=\"T_622a1762_aee2_11ea_8b55_50465da4e09erow21_col2\" class=\"data row21 col2\" >841</td>\n",
       "            </tr>\n",
       "            <tr>\n",
       "                        <th id=\"T_622a1762_aee2_11ea_8b55_50465da4e09elevel0_row22\" class=\"row_heading level0 row22\" >language learning</th>\n",
       "                        <td id=\"T_622a1762_aee2_11ea_8b55_50465da4e09erow22_col0\" class=\"data row22 col0\" >29.5943</td>\n",
       "                        <td id=\"T_622a1762_aee2_11ea_8b55_50465da4e09erow22_col1\" class=\"data row22 col1\" >17.0137</td>\n",
       "                        <td id=\"T_622a1762_aee2_11ea_8b55_50465da4e09erow22_col2\" class=\"data row22 col2\" >482</td>\n",
       "            </tr>\n",
       "            <tr>\n",
       "                        <th id=\"T_622a1762_aee2_11ea_8b55_50465da4e09elevel0_row23\" class=\"row_heading level0 row23\" >law</th>\n",
       "                        <td id=\"T_622a1762_aee2_11ea_8b55_50465da4e09erow23_col0\" class=\"data row23 col0\" >77.22</td>\n",
       "                        <td id=\"T_622a1762_aee2_11ea_8b55_50465da4e09erow23_col1\" class=\"data row23 col1\" >36.3728</td>\n",
       "                        <td id=\"T_622a1762_aee2_11ea_8b55_50465da4e09erow23_col2\" class=\"data row23 col2\" >695</td>\n",
       "            </tr>\n",
       "            <tr>\n",
       "                        <th id=\"T_622a1762_aee2_11ea_8b55_50465da4e09elevel0_row24\" class=\"row_heading level0 row24\" >literature popular science</th>\n",
       "                        <td id=\"T_622a1762_aee2_11ea_8b55_50465da4e09erow24_col0\" class=\"data row24 col0\" >32.3015</td>\n",
       "                        <td id=\"T_622a1762_aee2_11ea_8b55_50465da4e09erow24_col1\" class=\"data row24 col1\" >9.03307</td>\n",
       "                        <td id=\"T_622a1762_aee2_11ea_8b55_50465da4e09erow24_col2\" class=\"data row24 col2\" >172</td>\n",
       "            </tr>\n",
       "            <tr>\n",
       "                        <th id=\"T_622a1762_aee2_11ea_8b55_50465da4e09elevel0_row25\" class=\"row_heading level0 row25\" >non-fiction</th>\n",
       "                        <td id=\"T_622a1762_aee2_11ea_8b55_50465da4e09erow25_col0\" class=\"data row25 col0\" >30.8837</td>\n",
       "                        <td id=\"T_622a1762_aee2_11ea_8b55_50465da4e09erow25_col1\" class=\"data row25 col1\" >9.75847</td>\n",
       "                        <td id=\"T_622a1762_aee2_11ea_8b55_50465da4e09erow25_col2\" class=\"data row25 col2\" >2163</td>\n",
       "            </tr>\n",
       "            <tr>\n",
       "                        <th id=\"T_622a1762_aee2_11ea_8b55_50465da4e09elevel0_row26\" class=\"row_heading level0 row26\" >other</th>\n",
       "                        <td id=\"T_622a1762_aee2_11ea_8b55_50465da4e09erow26_col0\" class=\"data row26 col0\" >56.7091</td>\n",
       "                        <td id=\"T_622a1762_aee2_11ea_8b55_50465da4e09erow26_col1\" class=\"data row26 col1\" >36.4903</td>\n",
       "                        <td id=\"T_622a1762_aee2_11ea_8b55_50465da4e09erow26_col2\" class=\"data row26 col2\" >11</td>\n",
       "            </tr>\n",
       "            <tr>\n",
       "                        <th id=\"T_622a1762_aee2_11ea_8b55_50465da4e09elevel0_row27\" class=\"row_heading level0 row27\" >poetry and drama</th>\n",
       "                        <td id=\"T_622a1762_aee2_11ea_8b55_50465da4e09erow27_col0\" class=\"data row27 col0\" >23.4133</td>\n",
       "                        <td id=\"T_622a1762_aee2_11ea_8b55_50465da4e09erow27_col1\" class=\"data row27 col1\" >10.1104</td>\n",
       "                        <td id=\"T_622a1762_aee2_11ea_8b55_50465da4e09erow27_col2\" class=\"data row27 col2\" >800</td>\n",
       "            </tr>\n",
       "            <tr>\n",
       "                        <th id=\"T_622a1762_aee2_11ea_8b55_50465da4e09elevel0_row28\" class=\"row_heading level0 row28\" >polish authors</th>\n",
       "                        <td id=\"T_622a1762_aee2_11ea_8b55_50465da4e09erow28_col0\" class=\"data row28 col0\" >27.4584</td>\n",
       "                        <td id=\"T_622a1762_aee2_11ea_8b55_50465da4e09erow28_col1\" class=\"data row28 col1\" >5.59843</td>\n",
       "                        <td id=\"T_622a1762_aee2_11ea_8b55_50465da4e09erow28_col2\" class=\"data row28 col2\" >423</td>\n",
       "            </tr>\n",
       "            <tr>\n",
       "                        <th id=\"T_622a1762_aee2_11ea_8b55_50465da4e09elevel0_row29\" class=\"row_heading level0 row29\" >press</th>\n",
       "                        <td id=\"T_622a1762_aee2_11ea_8b55_50465da4e09erow29_col0\" class=\"data row29 col0\" >12.6897</td>\n",
       "                        <td id=\"T_622a1762_aee2_11ea_8b55_50465da4e09erow29_col1\" class=\"data row29 col1\" >8.02831</td>\n",
       "                        <td id=\"T_622a1762_aee2_11ea_8b55_50465da4e09erow29_col2\" class=\"data row29 col2\" >29</td>\n",
       "            </tr>\n",
       "            <tr>\n",
       "                        <th id=\"T_622a1762_aee2_11ea_8b55_50465da4e09elevel0_row30\" class=\"row_heading level0 row30\" >prose</th>\n",
       "                        <td id=\"T_622a1762_aee2_11ea_8b55_50465da4e09erow30_col0\" class=\"data row30 col0\" >28.4665</td>\n",
       "                        <td id=\"T_622a1762_aee2_11ea_8b55_50465da4e09erow30_col1\" class=\"data row30 col1\" >8.5536</td>\n",
       "                        <td id=\"T_622a1762_aee2_11ea_8b55_50465da4e09erow30_col2\" class=\"data row30 col2\" >5693</td>\n",
       "            </tr>\n",
       "            <tr>\n",
       "                        <th id=\"T_622a1762_aee2_11ea_8b55_50465da4e09elevel0_row31\" class=\"row_heading level0 row31\" >prose manners</th>\n",
       "                        <td id=\"T_622a1762_aee2_11ea_8b55_50465da4e09erow31_col0\" class=\"data row31 col0\" >28.335</td>\n",
       "                        <td id=\"T_622a1762_aee2_11ea_8b55_50465da4e09erow31_col1\" class=\"data row31 col1\" >8.52542</td>\n",
       "                        <td id=\"T_622a1762_aee2_11ea_8b55_50465da4e09erow31_col2\" class=\"data row31 col2\" >1153</td>\n",
       "            </tr>\n",
       "            <tr>\n",
       "                        <th id=\"T_622a1762_aee2_11ea_8b55_50465da4e09elevel0_row32\" class=\"row_heading level0 row32\" >reading</th>\n",
       "                        <td id=\"T_622a1762_aee2_11ea_8b55_50465da4e09erow32_col0\" class=\"data row32 col0\" >9.98929</td>\n",
       "                        <td id=\"T_622a1762_aee2_11ea_8b55_50465da4e09erow32_col1\" class=\"data row32 col1\" >8.49858</td>\n",
       "                        <td id=\"T_622a1762_aee2_11ea_8b55_50465da4e09erow32_col2\" class=\"data row32 col2\" >183</td>\n",
       "            </tr>\n",
       "            <tr>\n",
       "                        <th id=\"T_622a1762_aee2_11ea_8b55_50465da4e09elevel0_row33\" class=\"row_heading level0 row33\" >religion</th>\n",
       "                        <td id=\"T_622a1762_aee2_11ea_8b55_50465da4e09erow33_col0\" class=\"data row33 col0\" >25.6078</td>\n",
       "                        <td id=\"T_622a1762_aee2_11ea_8b55_50465da4e09erow33_col1\" class=\"data row33 col1\" >13.7772</td>\n",
       "                        <td id=\"T_622a1762_aee2_11ea_8b55_50465da4e09erow33_col2\" class=\"data row33 col2\" >1174</td>\n",
       "            </tr>\n",
       "            <tr>\n",
       "                        <th id=\"T_622a1762_aee2_11ea_8b55_50465da4e09elevel0_row34\" class=\"row_heading level0 row34\" >russian</th>\n",
       "                        <td id=\"T_622a1762_aee2_11ea_8b55_50465da4e09erow34_col0\" class=\"data row34 col0\" >42.28</td>\n",
       "                        <td id=\"T_622a1762_aee2_11ea_8b55_50465da4e09erow34_col1\" class=\"data row34 col1\" >43.7463</td>\n",
       "                        <td id=\"T_622a1762_aee2_11ea_8b55_50465da4e09erow34_col2\" class=\"data row34 col2\" >5</td>\n",
       "            </tr>\n",
       "            <tr>\n",
       "                        <th id=\"T_622a1762_aee2_11ea_8b55_50465da4e09elevel0_row35\" class=\"row_heading level0 row35\" >science</th>\n",
       "                        <td id=\"T_622a1762_aee2_11ea_8b55_50465da4e09erow35_col0\" class=\"data row35 col0\" >37.0281</td>\n",
       "                        <td id=\"T_622a1762_aee2_11ea_8b55_50465da4e09erow35_col1\" class=\"data row35 col1\" >17.6335</td>\n",
       "                        <td id=\"T_622a1762_aee2_11ea_8b55_50465da4e09erow35_col2\" class=\"data row35 col2\" >274</td>\n",
       "            </tr>\n",
       "            <tr>\n",
       "                        <th id=\"T_622a1762_aee2_11ea_8b55_50465da4e09elevel0_row36\" class=\"row_heading level0 row36\" >spanish</th>\n",
       "                        <td id=\"T_622a1762_aee2_11ea_8b55_50465da4e09erow36_col0\" class=\"data row36 col0\" >67.66</td>\n",
       "                        <td id=\"T_622a1762_aee2_11ea_8b55_50465da4e09erow36_col1\" class=\"data row36 col1\" >27.1845</td>\n",
       "                        <td id=\"T_622a1762_aee2_11ea_8b55_50465da4e09erow36_col2\" class=\"data row36 col2\" >15</td>\n",
       "            </tr>\n",
       "            <tr>\n",
       "                        <th id=\"T_622a1762_aee2_11ea_8b55_50465da4e09elevel0_row37\" class=\"row_heading level0 row37\" >sport</th>\n",
       "                        <td id=\"T_622a1762_aee2_11ea_8b55_50465da4e09erow37_col0\" class=\"data row37 col0\" >32.1464</td>\n",
       "                        <td id=\"T_622a1762_aee2_11ea_8b55_50465da4e09erow37_col1\" class=\"data row37 col1\" >9.55165</td>\n",
       "                        <td id=\"T_622a1762_aee2_11ea_8b55_50465da4e09erow37_col2\" class=\"data row37 col2\" >69</td>\n",
       "            </tr>\n",
       "            <tr>\n",
       "                        <th id=\"T_622a1762_aee2_11ea_8b55_50465da4e09elevel0_row38\" class=\"row_heading level0 row38\" >travels</th>\n",
       "                        <td id=\"T_622a1762_aee2_11ea_8b55_50465da4e09erow38_col0\" class=\"data row38 col0\" >23.9952</td>\n",
       "                        <td id=\"T_622a1762_aee2_11ea_8b55_50465da4e09erow38_col1\" class=\"data row38 col1\" >13.6388</td>\n",
       "                        <td id=\"T_622a1762_aee2_11ea_8b55_50465da4e09erow38_col2\" class=\"data row38 col2\" >1544</td>\n",
       "            </tr>\n",
       "            <tr>\n",
       "                        <th id=\"T_622a1762_aee2_11ea_8b55_50465da4e09elevel0_row39\" class=\"row_heading level0 row39\" >youth</th>\n",
       "                        <td id=\"T_622a1762_aee2_11ea_8b55_50465da4e09erow39_col0\" class=\"data row39 col0\" >25.9539</td>\n",
       "                        <td id=\"T_622a1762_aee2_11ea_8b55_50465da4e09erow39_col1\" class=\"data row39 col1\" >8.60131</td>\n",
       "                        <td id=\"T_622a1762_aee2_11ea_8b55_50465da4e09erow39_col2\" class=\"data row39 col2\" >1650</td>\n",
       "            </tr>\n",
       "    </tbody></table>"
      ],
      "text/plain": [
       "<pandas.io.formats.style.Styler at 0x122f7567f08>"
      ]
     },
     "execution_count": 35,
     "metadata": {},
     "output_type": "execute_result"
    }
   ],
   "source": [
    "def highlight_max(s):\n",
    "    max_val = s.nlargest(3).values\n",
    "    return ['background-color: #adedbe' if x in max_val else '' for x in s]\n",
    "\n",
    "def highlight_min(s):\n",
    "    min_val = s.nsmallest(3).values\n",
    "    return ['background-color: #f7bfba' if x in min_val else '' for x in s]\n",
    "\n",
    "df_desc.style.apply(highlight_max).apply(highlight_min)"
   ]
  },
  {
   "cell_type": "markdown",
   "metadata": {},
   "source": [
    "Finally, as it can be observed in the table above, the subjects with the most extreme values are:\n",
    "\n",
    "* Highest mean price: law, German, Spanish\n",
    "* Highest standard deviation: Russian, Law, other\n",
    "* Highest books count: English, books for children, prose\n",
    "\n",
    "\n",
    "\n",
    "* Lowest mean price: reading, press, factory outlets\n",
    "* Lowest standard deviation: books autographed by the author, books by polish authors, crime and sensation\n",
    "* Lowest book count: Russian, books autographed by the author, other\n",
    "\n",
    "While some categories have not enough entries to be deemed credible alone, it is evident that books written in foreign languages are generally more expensive than Polish ones. "
   ]
  },
  {
   "cell_type": "markdown",
   "metadata": {},
   "source": [
    "## Conclusions"
   ]
  },
  {
   "cell_type": "markdown",
   "metadata": {},
   "source": [
    "The price is influenced by less factors than initially assumed. The most relevant ones are language and subject. This might be caused by the following:\n",
    "\n",
    "* Some of the highest ranking subjects are generally considered to be some kind of specialistic knowledge (such as IT or business).\n",
    "* Some of the subjects might be considered having intangible, artistic value, therefore easier to be priced higher.\n",
    "* The books written in foreign languanges might have lower availibility in the Polish market, which allows the bookstore to hae a higher price spread for such books."
   ]
  }
 ],
 "metadata": {
  "kernelspec": {
   "display_name": "Python 3",
   "language": "python",
   "name": "python3"
  },
  "language_info": {
   "codemirror_mode": {
    "name": "ipython",
    "version": 3
   },
   "file_extension": ".py",
   "mimetype": "text/x-python",
   "name": "python",
   "nbconvert_exporter": "python",
   "pygments_lexer": "ipython3",
   "version": "3.7.5"
  }
 },
 "nbformat": 4,
 "nbformat_minor": 2
}
